{
 "cells": [
  {
   "cell_type": "markdown",
   "id": "576236d0-cedf-4e3c-82cf-e3dd065c5ab8",
   "metadata": {},
   "source": [
    "# **BİTİRME PROJESİ:**\n",
    "\n",
    "- **ANALİZ 1:** Siparişler ortalama ne kadar tuttu?\n",
    "\n",
    "- **ANALİZ 2:** Eyaletlere göre yapılan siparişlerin ortalama ödemeleri\n",
    "\n",
    "- **ANALİZ 3:** Ödeme Şekline Göre Yapılan Ödemelerin Ortalamaları\n",
    "\n",
    "- **ANALİZ 4:** Ödenen Ücret İle Kargo ücreti arasındaki oran\n",
    "\n",
    "- **BONUS :** Aykırı gözlemleri silip, ortalama değeri ile doldurmak."
   ]
  },
  {
   "cell_type": "code",
   "execution_count": 27,
   "id": "e85a1029-d4bb-442a-b9ad-b202cb71c1ad",
   "metadata": {
    "tags": []
   },
   "outputs": [],
   "source": [
    "import pandas as pd\n",
    "import seaborn as sns"
   ]
  },
  {
   "cell_type": "code",
   "execution_count": 5,
   "id": "f12666cc-5a70-4b26-bd0c-bb81e98bcf4a",
   "metadata": {},
   "outputs": [],
   "source": [
    "def ozellik_func(dataframe, head = 5):\n",
    "   \n",
    "    #boyut\n",
    "    print(\"------------------------------------------SHAPE------------------------------------------\")\n",
    "    print(dataframe.shape)\n",
    "    \n",
    "    #tip\n",
    "    print(\"------------------------------------------TYPE-------------------------------------------\")\n",
    "    print(dataframe.dtypes)\n",
    "    \n",
    "    #İlk gözlemler\n",
    "    print(\"------------------------------------------HEAD-------------------------------------------\")\n",
    "    print(dataframe.head(head))\n",
    "    \n",
    "    #Son gözlemler\n",
    "    print(\"------------------------------------------TAIL-------------------------------------------\")\n",
    "    print(dataframe.tail(head))\n",
    "    \n",
    "    #Eksik gözlem sayısı\n",
    "    print(\"------------------------------------------NA---------------------------------------------\")\n",
    "    print(dataframe.isnull().sum())"
   ]
  },
  {
   "cell_type": "code",
   "execution_count": 6,
   "id": "dd837bf2-4acd-44ab-9df5-cdeb5dd83c7e",
   "metadata": {},
   "outputs": [],
   "source": [
    "# \"order_item_dataset\" Düzenlemeleri\n",
    "\n",
    "siparis_edilen_urun_bilgileri = pd.read_csv(\"order_items_dataset.csv\")\n",
    "\n",
    "(siparis_edilen_urun_bilgileri.drop([\"seller_id\", \n",
    "                                    \"shipping_limit_date\"], \n",
    "                                   axis = 1, \n",
    "                                   inplace = True))\n",
    "\n",
    "# \"orders_dataset\" Düzenlemeleri\n",
    "\n",
    "siparisler = pd.read_csv(\"orders_dataset.csv\")\n",
    "(siparisler.drop([\"order_status\",\n",
    "              \"order_purchase_timestamp\",\n",
    "              \"order_approved_at\",\n",
    "              \"order_delivered_carrier_date\",\n",
    "              \"order_delivered_customer_date\",\n",
    "              \"order_estimated_delivery_date\"],\n",
    "             axis = 1,\n",
    "             inplace = True))\n",
    "\n",
    "\n",
    "#### \"Products_dataset\" Düzenlenmeleri\n",
    "\n",
    "urunler = pd.read_csv(\"products_dataset.csv\")\n",
    "urun_ingilizce_isimleri = pd.read_csv(\"product_category_name_translation.csv\")\n",
    "\n",
    "(urunler.drop([\"product_name_lenght\",\n",
    "              \"product_description_lenght\",\n",
    "              \"product_photos_qty\",\n",
    "              \"product_weight_g\",\n",
    "              \"product_length_cm\",\n",
    "              \"product_height_cm\",\n",
    "              \"product_width_cm\"],\n",
    "             axis = 1,\n",
    "             inplace = True))\n",
    "\n",
    "df = pd.merge(urunler, urun_ingilizce_isimleri, on = \"product_category_name\")\n",
    "df.drop([\"product_category_name\"], axis = 1, inplace = True)\n",
    "\n",
    "\n",
    "#### \"customers_dataset\" Düzenlenmesi\n",
    "\n",
    "musteri_bilgileri = pd.read_csv(\"customers_dataset.csv\")\n",
    "(musteri_bilgileri.drop([\"customer_unique_id\",\n",
    "                        \"customer_zip_code_prefix\",\n",
    "                        \"customer_city\"],\n",
    "                      axis = 1,\n",
    "                      inplace = True))\n",
    "\n",
    "\n",
    "#### **\"sellers_dataset\" Düzenlemesi**\n",
    "\n",
    "satıcılar = pd.read_csv(\"sellers_dataset.csv\")\n",
    "(satıcılar.drop([\"seller_zip_code_prefix\", \n",
    "                 \"seller_city\"], \n",
    "                axis = 1, \n",
    "                inplace = True))\n",
    "\n",
    "\n",
    "#### \"order_payments_dataset\" Düzenlemesi\n",
    "\n",
    "odeme_sekli = pd.read_csv(\"order_payments_dataset.csv\")\n",
    "\n",
    "(odeme_sekli.drop([\"payment_sequential\",\n",
    "                   \"payment_installments\"],\n",
    "                  axis=1, inplace = True))\n"
   ]
  },
  {
   "cell_type": "markdown",
   "id": "8510349e-8863-4795-9c0d-40b74c1d885e",
   "metadata": {
    "tags": []
   },
   "source": [
    "### **ANALİZ 1** "
   ]
  },
  {
   "cell_type": "code",
   "execution_count": 8,
   "id": "4fd52846-1d29-4d2b-ac42-0e3db5bb1f68",
   "metadata": {},
   "outputs": [
    {
     "name": "stdout",
     "output_type": "stream",
     "text": [
      "------------------------------------------SHAPE------------------------------------------\n",
      "(103886, 3)\n",
      "------------------------------------------TYPE-------------------------------------------\n",
      "order_id          object\n",
      "payment_type      object\n",
      "payment_value    float64\n",
      "dtype: object\n",
      "------------------------------------------HEAD-------------------------------------------\n",
      "                           order_id payment_type  payment_value\n",
      "0  b81ef226f3fe1789b1e8b2acac839d17  credit_card          99.33\n",
      "1  a9810da82917af2d9aefd1278f1dcfa0  credit_card          24.39\n",
      "2  25e8ea4e93396b6fa0d3dd708e76c1bd  credit_card          65.71\n",
      "3  ba78997921bbcdc1373bb41e913ab953  credit_card         107.78\n",
      "4  42fdf880ba16b47b59251dd489d4441a  credit_card         128.45\n",
      "------------------------------------------TAIL-------------------------------------------\n",
      "                                order_id payment_type  payment_value\n",
      "103881  0406037ad97740d563a178ecc7a2075c       boleto         363.31\n",
      "103882  7b905861d7c825891d6347454ea7863f  credit_card          96.80\n",
      "103883  32609bbb3dd69b3c066a6860554a77bf  credit_card          47.77\n",
      "103884  b8b61059626efa996a60be9bb9320e10  credit_card         369.54\n",
      "103885  28bbae6599b09d39ca406b747b6632b1       boleto         191.58\n",
      "------------------------------------------NA---------------------------------------------\n",
      "order_id         0\n",
      "payment_type     0\n",
      "payment_value    0\n",
      "dtype: int64\n"
     ]
    }
   ],
   "source": [
    "ozellik_func(odeme_sekli)"
   ]
  },
  {
   "cell_type": "code",
   "execution_count": 9,
   "id": "6978dddc-1908-4e61-96b8-27122f29ed40",
   "metadata": {},
   "outputs": [
    {
     "data": {
      "text/html": [
       "<div>\n",
       "<style scoped>\n",
       "    .dataframe tbody tr th:only-of-type {\n",
       "        vertical-align: middle;\n",
       "    }\n",
       "\n",
       "    .dataframe tbody tr th {\n",
       "        vertical-align: top;\n",
       "    }\n",
       "\n",
       "    .dataframe thead th {\n",
       "        text-align: right;\n",
       "    }\n",
       "</style>\n",
       "<table border=\"1\" class=\"dataframe\">\n",
       "  <thead>\n",
       "    <tr style=\"text-align: right;\">\n",
       "      <th></th>\n",
       "      <th>count</th>\n",
       "      <th>mean</th>\n",
       "      <th>std</th>\n",
       "      <th>min</th>\n",
       "      <th>25%</th>\n",
       "      <th>50%</th>\n",
       "      <th>75%</th>\n",
       "      <th>max</th>\n",
       "    </tr>\n",
       "  </thead>\n",
       "  <tbody>\n",
       "    <tr>\n",
       "      <th>payment_value</th>\n",
       "      <td>103886.0</td>\n",
       "      <td>154.10038</td>\n",
       "      <td>217.494064</td>\n",
       "      <td>0.0</td>\n",
       "      <td>56.79</td>\n",
       "      <td>100.0</td>\n",
       "      <td>171.8375</td>\n",
       "      <td>13664.08</td>\n",
       "    </tr>\n",
       "  </tbody>\n",
       "</table>\n",
       "</div>"
      ],
      "text/plain": [
       "                  count       mean         std  min    25%    50%       75%  \\\n",
       "payment_value  103886.0  154.10038  217.494064  0.0  56.79  100.0  171.8375   \n",
       "\n",
       "                    max  \n",
       "payment_value  13664.08  "
      ]
     },
     "execution_count": 9,
     "metadata": {},
     "output_type": "execute_result"
    }
   ],
   "source": [
    "odeme_sekli.describe().T"
   ]
  },
  {
   "cell_type": "code",
   "execution_count": 10,
   "id": "1ec1efc7-5785-4c38-b0fe-f35a7b0c39b5",
   "metadata": {},
   "outputs": [
    {
     "data": {
      "image/png": "[encoded data removed]",
      "text/plain": [
       "<Figure size 432x288 with 1 Axes>"
      ]
     },
     "metadata": {
      "needs_background": "light"
     },
     "output_type": "display_data"
    }
   ],
   "source": [
    "sns.boxplot(x = odeme_sekli[\"payment_value\"]);"
   ]
  },
  {
   "cell_type": "markdown",
   "id": "bfac4351-ba0c-41ca-94ea-a52dfde32213",
   "metadata": {},
   "source": [
    "**YORUM:** Ortalamları hesapladığımız tabloya baktığımızda ortalama ve standart sapma birbirinden çok uzak değil ve bu durum dağılımın çok çarpık olmadığını gösterir. Ancak 3. kartil ile maksimum değer arasında çok fazla farklılık olması bir aykırı değerler olduğunu ortaya koyuyor ve bunu grafikte çok net görmekteyiz. Bazı ürünler ortalamadan çok yüksek fiyatlara sahip. "
   ]
  },
  {
   "cell_type": "code",
   "execution_count": 15,
   "id": "98bb9509-6320-4b9e-ad90-1ffb2d0fd3c8",
   "metadata": {},
   "outputs": [
    {
     "name": "stderr",
     "output_type": "stream",
     "text": [
      "C:\\Users\\Lenovo\\AppData\\Local\\Temp/ipykernel_150692/1774323744.py:17: SettingWithCopyWarning: \n",
      "A value is trying to be set on a copy of a slice from a DataFrame\n",
      "\n",
      "See the caveats in the documentation: https://pandas.pydata.org/pandas-docs/stable/user_guide/indexing.html#returning-a-view-versus-a-copy\n",
      "  odeme_miktarı[aykırı_deger] = odeme_miktarı.mean()\n"
     ]
    }
   ],
   "source": [
    "#Aykırı değerleri silme\n",
    "\n",
    "odeme_miktarı = odeme_sekli[\"payment_value\"]\n",
    "\n",
    "Q1 = odeme_miktarı.quantile(0.25) #değişkenin %25. indexine karşılık gelen değer\n",
    "Q3 = odeme_miktarı.quantile(0.75) \n",
    "IQR = Q3 - Q1 \n",
    "\n",
    "alt_sinir = Q1 - 1.5 * IQR #alt eşik değeri\n",
    "ust_sinir = Q3 + 1.5 * IQR \n",
    "\n",
    "aykırı_deger = (odeme_miktarı < alt_sinir) | (odeme_miktarı > ust_sinir)\n",
    "odeme = odeme_miktarı[~(aykırı_deger)]\n",
    "\n",
    "#Ortalama İle doldurma\n",
    "\n",
    "odeme_miktarı[aykırı_deger] = odeme_miktarı.mean()"
   ]
  },
  {
   "cell_type": "code",
   "execution_count": 16,
   "id": "127858c0-83c9-4484-b887-8a001f8e9ea1",
   "metadata": {},
   "outputs": [
    {
     "data": {
      "image/png": "[encoded data removed]",
      "text/plain": [
       "<Figure size 432x288 with 1 Axes>"
      ]
     },
     "metadata": {
      "needs_background": "light"
     },
     "output_type": "display_data"
    }
   ],
   "source": [
    "sns.boxplot(x = odeme_sekli[\"payment_value\"]);"
   ]
  },
  {
   "cell_type": "code",
   "execution_count": 17,
   "id": "e487caf8-d59f-49a1-a415-c3b0a6709d3b",
   "metadata": {},
   "outputs": [
    {
     "data": {
      "text/html": [
       "<div>\n",
       "<style scoped>\n",
       "    .dataframe tbody tr th:only-of-type {\n",
       "        vertical-align: middle;\n",
       "    }\n",
       "\n",
       "    .dataframe tbody tr th {\n",
       "        vertical-align: top;\n",
       "    }\n",
       "\n",
       "    .dataframe thead th {\n",
       "        text-align: right;\n",
       "    }\n",
       "</style>\n",
       "<table border=\"1\" class=\"dataframe\">\n",
       "  <thead>\n",
       "    <tr style=\"text-align: right;\">\n",
       "      <th></th>\n",
       "      <th>count</th>\n",
       "      <th>mean</th>\n",
       "      <th>std</th>\n",
       "      <th>min</th>\n",
       "      <th>25%</th>\n",
       "      <th>50%</th>\n",
       "      <th>75%</th>\n",
       "      <th>max</th>\n",
       "    </tr>\n",
       "  </thead>\n",
       "  <tbody>\n",
       "    <tr>\n",
       "      <th>payment_value</th>\n",
       "      <td>103886.0</td>\n",
       "      <td>108.979127</td>\n",
       "      <td>63.854576</td>\n",
       "      <td>0.0</td>\n",
       "      <td>56.79</td>\n",
       "      <td>100.0</td>\n",
       "      <td>154.10038</td>\n",
       "      <td>300.06</td>\n",
       "    </tr>\n",
       "  </tbody>\n",
       "</table>\n",
       "</div>"
      ],
      "text/plain": [
       "                  count        mean        std  min    25%    50%        75%  \\\n",
       "payment_value  103886.0  108.979127  63.854576  0.0  56.79  100.0  154.10038   \n",
       "\n",
       "                  max  \n",
       "payment_value  300.06  "
      ]
     },
     "execution_count": 17,
     "metadata": {},
     "output_type": "execute_result"
    }
   ],
   "source": [
    "odeme_sekli.describe().T"
   ]
  },
  {
   "cell_type": "markdown",
   "id": "e0f8521a-4d8b-4a9d-8b0c-9258f165bf92",
   "metadata": {},
   "source": [
    "**Yorum:** Aykırı gözlemleri, ortalama ile doldurarak ortadan kaldırmış olduk. Sonuçta 3. kartil ile maksimum değer arasındaki fark daha normal olmuş ve daha gerçeğe yakın ortalama değeri hesaplanmış oldu. "
   ]
  },
  {
   "cell_type": "markdown",
   "id": "de1a4c93-495d-44f9-bd65-24e1cedd1f65",
   "metadata": {
    "tags": []
   },
   "source": [
    "### **ANALİZ 2**"
   ]
  },
  {
   "cell_type": "code",
   "execution_count": 18,
   "id": "951dadef-0302-4855-9449-b6b9f7423843",
   "metadata": {},
   "outputs": [
    {
     "data": {
      "text/html": [
       "<div>\n",
       "<style scoped>\n",
       "    .dataframe tbody tr th:only-of-type {\n",
       "        vertical-align: middle;\n",
       "    }\n",
       "\n",
       "    .dataframe tbody tr th {\n",
       "        vertical-align: top;\n",
       "    }\n",
       "\n",
       "    .dataframe thead th {\n",
       "        text-align: right;\n",
       "    }\n",
       "</style>\n",
       "<table border=\"1\" class=\"dataframe\">\n",
       "  <thead>\n",
       "    <tr style=\"text-align: right;\">\n",
       "      <th></th>\n",
       "      <th>order_id</th>\n",
       "      <th>customer_id</th>\n",
       "      <th>payment_type</th>\n",
       "      <th>payment_value</th>\n",
       "      <th>customer_state</th>\n",
       "    </tr>\n",
       "  </thead>\n",
       "  <tbody>\n",
       "    <tr>\n",
       "      <th>0</th>\n",
       "      <td>e481f51cbdc54678b7cc49136f2d6af7</td>\n",
       "      <td>9ef432eb6251297304e76186b10a928d</td>\n",
       "      <td>credit_card</td>\n",
       "      <td>18.12</td>\n",
       "      <td>SP</td>\n",
       "    </tr>\n",
       "    <tr>\n",
       "      <th>1</th>\n",
       "      <td>e481f51cbdc54678b7cc49136f2d6af7</td>\n",
       "      <td>9ef432eb6251297304e76186b10a928d</td>\n",
       "      <td>voucher</td>\n",
       "      <td>2.00</td>\n",
       "      <td>SP</td>\n",
       "    </tr>\n",
       "    <tr>\n",
       "      <th>2</th>\n",
       "      <td>e481f51cbdc54678b7cc49136f2d6af7</td>\n",
       "      <td>9ef432eb6251297304e76186b10a928d</td>\n",
       "      <td>voucher</td>\n",
       "      <td>18.59</td>\n",
       "      <td>SP</td>\n",
       "    </tr>\n",
       "    <tr>\n",
       "      <th>3</th>\n",
       "      <td>53cdb2fc8bc7dce0b6741e2150273451</td>\n",
       "      <td>b0830fb4747a6c6d20dea0b8c802d7ef</td>\n",
       "      <td>boleto</td>\n",
       "      <td>141.46</td>\n",
       "      <td>BA</td>\n",
       "    </tr>\n",
       "    <tr>\n",
       "      <th>4</th>\n",
       "      <td>47770eb9100c2d0c44946d9cf07ec65d</td>\n",
       "      <td>41ce2a54c0b03bf3443c3d931a367089</td>\n",
       "      <td>credit_card</td>\n",
       "      <td>179.12</td>\n",
       "      <td>GO</td>\n",
       "    </tr>\n",
       "  </tbody>\n",
       "</table>\n",
       "</div>"
      ],
      "text/plain": [
       "                           order_id                       customer_id  \\\n",
       "0  e481f51cbdc54678b7cc49136f2d6af7  9ef432eb6251297304e76186b10a928d   \n",
       "1  e481f51cbdc54678b7cc49136f2d6af7  9ef432eb6251297304e76186b10a928d   \n",
       "2  e481f51cbdc54678b7cc49136f2d6af7  9ef432eb6251297304e76186b10a928d   \n",
       "3  53cdb2fc8bc7dce0b6741e2150273451  b0830fb4747a6c6d20dea0b8c802d7ef   \n",
       "4  47770eb9100c2d0c44946d9cf07ec65d  41ce2a54c0b03bf3443c3d931a367089   \n",
       "\n",
       "  payment_type  payment_value customer_state  \n",
       "0  credit_card          18.12             SP  \n",
       "1      voucher           2.00             SP  \n",
       "2      voucher          18.59             SP  \n",
       "3       boleto         141.46             BA  \n",
       "4  credit_card         179.12             GO  "
      ]
     },
     "execution_count": 18,
     "metadata": {},
     "output_type": "execute_result"
    }
   ],
   "source": [
    "df = pd.merge(siparisler, odeme_sekli, on = \"order_id\")\n",
    "\n",
    "eyalet_odemeleri = pd.merge(df,musteri_bilgileri)\n",
    "\n",
    "eyalet_odemeleri.head()"
   ]
  },
  {
   "cell_type": "code",
   "execution_count": 19,
   "id": "7b364d8e-d42e-4fd5-a3ee-1288ee6a3b02",
   "metadata": {},
   "outputs": [
    {
     "data": {
      "image/png": "[encoded data removed]",
      "text/plain": [
       "<Figure size 432x288 with 1 Axes>"
      ]
     },
     "metadata": {
      "needs_background": "light"
     },
     "output_type": "display_data"
    }
   ],
   "source": [
    "(eyalet_odemeleri[\"customer_state\"]\n",
    "                  .value_counts()\n",
    "                  .plot.barh()\n",
    "                  .set_title(\"Eyalet Değişkeninin Sınıf Frekansları\"));"
   ]
  },
  {
   "cell_type": "code",
   "execution_count": 25,
   "id": "9648907e-76f6-44cf-a8ee-c8952f4d9015",
   "metadata": {},
   "outputs": [
    {
     "data": {
      "text/html": [
       "<div>\n",
       "<style scoped>\n",
       "    .dataframe tbody tr th:only-of-type {\n",
       "        vertical-align: middle;\n",
       "    }\n",
       "\n",
       "    .dataframe tbody tr th {\n",
       "        vertical-align: top;\n",
       "    }\n",
       "\n",
       "    .dataframe thead th {\n",
       "        text-align: right;\n",
       "    }\n",
       "</style>\n",
       "<table border=\"1\" class=\"dataframe\">\n",
       "  <thead>\n",
       "    <tr style=\"text-align: right;\">\n",
       "      <th></th>\n",
       "      <th>payment_value</th>\n",
       "    </tr>\n",
       "    <tr>\n",
       "      <th>customer_state</th>\n",
       "      <th></th>\n",
       "    </tr>\n",
       "  </thead>\n",
       "  <tbody>\n",
       "    <tr>\n",
       "      <th>AC</th>\n",
       "      <td>137.718348</td>\n",
       "    </tr>\n",
       "    <tr>\n",
       "      <th>AL</th>\n",
       "      <td>129.069069</td>\n",
       "    </tr>\n",
       "    <tr>\n",
       "      <th>AM</th>\n",
       "      <td>118.845577</td>\n",
       "    </tr>\n",
       "    <tr>\n",
       "      <th>AP</th>\n",
       "      <td>144.206727</td>\n",
       "    </tr>\n",
       "    <tr>\n",
       "      <th>BA</th>\n",
       "      <td>114.004095</td>\n",
       "    </tr>\n",
       "    <tr>\n",
       "      <th>CE</th>\n",
       "      <td>121.658722</td>\n",
       "    </tr>\n",
       "    <tr>\n",
       "      <th>DF</th>\n",
       "      <td>113.245697</td>\n",
       "    </tr>\n",
       "    <tr>\n",
       "      <th>ES</th>\n",
       "      <td>112.516208</td>\n",
       "    </tr>\n",
       "    <tr>\n",
       "      <th>GO</th>\n",
       "      <td>114.299799</td>\n",
       "    </tr>\n",
       "    <tr>\n",
       "      <th>MA</th>\n",
       "      <td>129.542290</td>\n",
       "    </tr>\n",
       "    <tr>\n",
       "      <th>MG</th>\n",
       "      <td>111.584067</td>\n",
       "    </tr>\n",
       "    <tr>\n",
       "      <th>MS</th>\n",
       "      <td>116.316804</td>\n",
       "    </tr>\n",
       "    <tr>\n",
       "      <th>MT</th>\n",
       "      <td>121.740471</td>\n",
       "    </tr>\n",
       "    <tr>\n",
       "      <th>PA</th>\n",
       "      <td>128.198079</td>\n",
       "    </tr>\n",
       "    <tr>\n",
       "      <th>PB</th>\n",
       "      <td>134.867542</td>\n",
       "    </tr>\n",
       "    <tr>\n",
       "      <th>PE</th>\n",
       "      <td>124.893767</td>\n",
       "    </tr>\n",
       "    <tr>\n",
       "      <th>PI</th>\n",
       "      <td>129.649089</td>\n",
       "    </tr>\n",
       "    <tr>\n",
       "      <th>PR</th>\n",
       "      <td>107.784354</td>\n",
       "    </tr>\n",
       "    <tr>\n",
       "      <th>RJ</th>\n",
       "      <td>112.553101</td>\n",
       "    </tr>\n",
       "    <tr>\n",
       "      <th>RN</th>\n",
       "      <td>128.576871</td>\n",
       "    </tr>\n",
       "    <tr>\n",
       "      <th>RO</th>\n",
       "      <td>134.316780</td>\n",
       "    </tr>\n",
       "    <tr>\n",
       "      <th>RR</th>\n",
       "      <td>132.713376</td>\n",
       "    </tr>\n",
       "    <tr>\n",
       "      <th>RS</th>\n",
       "      <td>111.899979</td>\n",
       "    </tr>\n",
       "    <tr>\n",
       "      <th>SC</th>\n",
       "      <td>113.825449</td>\n",
       "    </tr>\n",
       "    <tr>\n",
       "      <th>SE</th>\n",
       "      <td>130.221020</td>\n",
       "    </tr>\n",
       "    <tr>\n",
       "      <th>SP</th>\n",
       "      <td>101.341857</td>\n",
       "    </tr>\n",
       "    <tr>\n",
       "      <th>TO</th>\n",
       "      <td>126.521580</td>\n",
       "    </tr>\n",
       "  </tbody>\n",
       "</table>\n",
       "</div>"
      ],
      "text/plain": [
       "                payment_value\n",
       "customer_state               \n",
       "AC                 137.718348\n",
       "AL                 129.069069\n",
       "AM                 118.845577\n",
       "AP                 144.206727\n",
       "BA                 114.004095\n",
       "CE                 121.658722\n",
       "DF                 113.245697\n",
       "ES                 112.516208\n",
       "GO                 114.299799\n",
       "MA                 129.542290\n",
       "MG                 111.584067\n",
       "MS                 116.316804\n",
       "MT                 121.740471\n",
       "PA                 128.198079\n",
       "PB                 134.867542\n",
       "PE                 124.893767\n",
       "PI                 129.649089\n",
       "PR                 107.784354\n",
       "RJ                 112.553101\n",
       "RN                 128.576871\n",
       "RO                 134.316780\n",
       "RR                 132.713376\n",
       "RS                 111.899979\n",
       "SC                 113.825449\n",
       "SE                 130.221020\n",
       "SP                 101.341857\n",
       "TO                 126.521580"
      ]
     },
     "execution_count": 25,
     "metadata": {},
     "output_type": "execute_result"
    }
   ],
   "source": [
    "eyalet_odemeleri.groupby(\"customer_state\").aggregate(\"mean\")"
   ]
  },
  {
   "cell_type": "code",
   "execution_count": 26,
   "id": "03d53691-d952-4dc8-a80b-ca6554f6d51d",
   "metadata": {},
   "outputs": [
    {
     "data": {
      "image/png": "[encoded data removed]",
      "text/plain": [
       "<Figure size 432x288 with 1 Axes>"
      ]
     },
     "metadata": {
      "needs_background": "light"
     },
     "output_type": "display_data"
    }
   ],
   "source": [
    "(sns.barplot(x = \"customer_state\",\n",
    "             y = \"payment_value\",\n",
    "             errwidth = 2.0,\n",
    "             data = eyalet_odemeleri));"
   ]
  },
  {
   "cell_type": "markdown",
   "id": "2f404003-270d-427f-96a1-d96e523c8a47",
   "metadata": {},
   "source": [
    "**Yorum:** Ürünler satışında ortalama olarak en fazla ödeme yapan eyalet AP iken, en az ödeme gerçekleştiren eyalet SP dir. Sp eyaletinden daha fazla sipariş verildiği halde ortalamanın daha düşük olması genellikle düşük ücretli ürünlerin sipariş edildiği bilgisini sunar. Halkı daha fakir olabilir bilgisini çıkarabiliriz. "
   ]
  },
  {
   "cell_type": "markdown",
   "id": "d0ba93db-bb32-4fa8-9d03-7cd87825f630",
   "metadata": {
    "tags": []
   },
   "source": [
    "### **ANALİZ 3**"
   ]
  },
  {
   "cell_type": "code",
   "execution_count": 28,
   "id": "59ea3df6-e5e7-45fc-8d22-418c55dc87a8",
   "metadata": {},
   "outputs": [
    {
     "data": {
      "text/html": [
       "<div>\n",
       "<style scoped>\n",
       "    .dataframe tbody tr th:only-of-type {\n",
       "        vertical-align: middle;\n",
       "    }\n",
       "\n",
       "    .dataframe tbody tr th {\n",
       "        vertical-align: top;\n",
       "    }\n",
       "\n",
       "    .dataframe thead th {\n",
       "        text-align: right;\n",
       "    }\n",
       "</style>\n",
       "<table border=\"1\" class=\"dataframe\">\n",
       "  <thead>\n",
       "    <tr style=\"text-align: right;\">\n",
       "      <th></th>\n",
       "      <th>order_id</th>\n",
       "      <th>payment_type</th>\n",
       "      <th>payment_value</th>\n",
       "    </tr>\n",
       "  </thead>\n",
       "  <tbody>\n",
       "    <tr>\n",
       "      <th>0</th>\n",
       "      <td>b81ef226f3fe1789b1e8b2acac839d17</td>\n",
       "      <td>credit_card</td>\n",
       "      <td>99.33</td>\n",
       "    </tr>\n",
       "    <tr>\n",
       "      <th>1</th>\n",
       "      <td>a9810da82917af2d9aefd1278f1dcfa0</td>\n",
       "      <td>credit_card</td>\n",
       "      <td>24.39</td>\n",
       "    </tr>\n",
       "    <tr>\n",
       "      <th>2</th>\n",
       "      <td>25e8ea4e93396b6fa0d3dd708e76c1bd</td>\n",
       "      <td>credit_card</td>\n",
       "      <td>65.71</td>\n",
       "    </tr>\n",
       "    <tr>\n",
       "      <th>3</th>\n",
       "      <td>ba78997921bbcdc1373bb41e913ab953</td>\n",
       "      <td>credit_card</td>\n",
       "      <td>107.78</td>\n",
       "    </tr>\n",
       "    <tr>\n",
       "      <th>4</th>\n",
       "      <td>42fdf880ba16b47b59251dd489d4441a</td>\n",
       "      <td>credit_card</td>\n",
       "      <td>128.45</td>\n",
       "    </tr>\n",
       "  </tbody>\n",
       "</table>\n",
       "</div>"
      ],
      "text/plain": [
       "                           order_id payment_type  payment_value\n",
       "0  b81ef226f3fe1789b1e8b2acac839d17  credit_card          99.33\n",
       "1  a9810da82917af2d9aefd1278f1dcfa0  credit_card          24.39\n",
       "2  25e8ea4e93396b6fa0d3dd708e76c1bd  credit_card          65.71\n",
       "3  ba78997921bbcdc1373bb41e913ab953  credit_card         107.78\n",
       "4  42fdf880ba16b47b59251dd489d4441a  credit_card         128.45"
      ]
     },
     "execution_count": 28,
     "metadata": {},
     "output_type": "execute_result"
    }
   ],
   "source": [
    "odeme_sekli.head()"
   ]
  },
  {
   "cell_type": "code",
   "execution_count": 29,
   "id": "4325ec2d-e671-40a1-abb2-def89dda8541",
   "metadata": {},
   "outputs": [
    {
     "data": {
      "image/png": "[encoded data removed]",
      "text/plain": [
       "<Figure size 432x288 with 1 Axes>"
      ]
     },
     "metadata": {
      "needs_background": "light"
     },
     "output_type": "display_data"
    }
   ],
   "source": [
    "(sns.barplot(x = \"payment_type\",\n",
    "             y = \"payment_value\", \n",
    "             data = odeme_sekli));"
   ]
  },
  {
   "cell_type": "markdown",
   "id": "b412d90b-4e5a-4ba0-8030-e7385b859831",
   "metadata": {},
   "source": [
    "**Yorum:** Görüldüğü gibi en fazla miktarda ödeme kredi kartı ile yapılmışken en az miktarda ödeme voucher ile yapılmıştır. "
   ]
  },
  {
   "cell_type": "markdown",
   "id": "6e0e75af-dc31-466d-83ba-8cb352ac2257",
   "metadata": {
    "tags": []
   },
   "source": [
    "### **ANALİZ 4**"
   ]
  },
  {
   "cell_type": "code",
   "execution_count": 30,
   "id": "ea12144b-a7c6-4827-ac31-ea99739b24a5",
   "metadata": {
    "tags": []
   },
   "outputs": [
    {
     "name": "stdout",
     "output_type": "stream",
     "text": [
      "------------------------------------------SHAPE------------------------------------------\n",
      "(112650, 5)\n",
      "------------------------------------------TYPE-------------------------------------------\n",
      "order_id          object\n",
      "order_item_id      int64\n",
      "product_id        object\n",
      "price            float64\n",
      "freight_value    float64\n",
      "dtype: object\n",
      "------------------------------------------HEAD-------------------------------------------\n",
      "                           order_id  order_item_id  \\\n",
      "0  00010242fe8c5a6d1ba2dd792cb16214              1   \n",
      "1  00018f77f2f0320c557190d7a144bdd3              1   \n",
      "2  000229ec398224ef6ca0657da4fc703e              1   \n",
      "3  00024acbcdf0a6daa1e931b038114c75              1   \n",
      "4  00042b26cf59d7ce69dfabb4e55b4fd9              1   \n",
      "\n",
      "                         product_id   price  freight_value  \n",
      "0  4244733e06e7ecb4970a6e2683c13e61   58.90          13.29  \n",
      "1  e5f2d52b802189ee658865ca93d83a8f  239.90          19.93  \n",
      "2  c777355d18b72b67abbeef9df44fd0fd  199.00          17.87  \n",
      "3  7634da152a4610f1595efa32f14722fc   12.99          12.79  \n",
      "4  ac6c3623068f30de03045865e4e10089  199.90          18.14  \n",
      "------------------------------------------TAIL-------------------------------------------\n",
      "                                order_id  order_item_id  \\\n",
      "112645  fffc94f6ce00a00581880bf54a75a037              1   \n",
      "112646  fffcd46ef2263f404302a634eb57f7eb              1   \n",
      "112647  fffce4705a9662cd70adb13d4a31832d              1   \n",
      "112648  fffe18544ffabc95dfada21779c9644f              1   \n",
      "112649  fffe41c64501cc87c801fd61db3f6244              1   \n",
      "\n",
      "                              product_id   price  freight_value  \n",
      "112645  4aa6014eceb682077f9dc4bffebc05b0  299.99          43.41  \n",
      "112646  32e07fd915822b0765e448c4dd74c828  350.00          36.53  \n",
      "112647  72a30483855e2eafc67aee5dc2560482   99.90          16.95  \n",
      "112648  9c422a519119dcad7575db5af1ba540e   55.99           8.72  \n",
      "112649  350688d9dc1e75ff97be326363655e01   43.00          12.79  \n",
      "------------------------------------------NA---------------------------------------------\n",
      "order_id         0\n",
      "order_item_id    0\n",
      "product_id       0\n",
      "price            0\n",
      "freight_value    0\n",
      "dtype: int64\n"
     ]
    }
   ],
   "source": [
    "ozellik_func(siparis_edilen_urun_bilgileri)\n"
   ]
  },
  {
   "cell_type": "code",
   "execution_count": 31,
   "id": "c02f4345-ecca-4daf-a0ad-eae42f5739d0",
   "metadata": {},
   "outputs": [
    {
     "data": {
      "image/png": "[encoded data removed]",
      "text/plain": [
       "<Figure size 360x360 with 1 Axes>"
      ]
     },
     "metadata": {
      "needs_background": "light"
     },
     "output_type": "display_data"
    }
   ],
   "source": [
    "(sns.lmplot(x=\"freight_value\", \n",
    "           y=\"price\", \n",
    "           data = siparis_edilen_urun_bilgileri ));"
   ]
  },
  {
   "cell_type": "markdown",
   "id": "3e60bdfa-bcbe-42b3-b69c-078e62081dad",
   "metadata": {},
   "source": [
    "**Yorum:** Grafikte eğim düşük çıktı noktaların dağılımlarına baktığımız zaman doğrusal bir dağılım görmüyoruz. \n",
    "\n",
    "Anlaşılacağı gibi ürünün kargo ücreti fiyata pek bağlı değil. Ürünün ağırlığı veya satıcı/alıcı eyaletleri arası mesafe etkili olabilir. "
   ]
  },
  {
   "cell_type": "code",
   "execution_count": null,
   "id": "478e7605-c8e6-4dab-89fe-45a8546df58e",
   "metadata": {},
   "outputs": [],
   "source": []
  }
 ],
 "metadata": {
  "kernelspec": {
   "display_name": "Python 3 (ipykernel)",
   "language": "python",
   "name": "python3"
  },
  "language_info": {
   "codemirror_mode": {
    "name": "ipython",
    "version": 3
   },
   "file_extension": ".py",
   "mimetype": "text/x-python",
   "name": "python",
   "nbconvert_exporter": "python",
   "pygments_lexer": "ipython3",
   "version": "3.9.7"
  }
 },
 "nbformat": 4,
 "nbformat_minor": 5
}
